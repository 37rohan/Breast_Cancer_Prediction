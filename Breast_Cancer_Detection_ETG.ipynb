{
  "nbformat": 4,
  "nbformat_minor": 0,
  "metadata": {
    "colab": {
      "name": "Breast Cancer Detection ETG",
      "provenance": [],
      "collapsed_sections": []
    },
    "kernelspec": {
      "name": "python3",
      "display_name": "Python 3"
    },
    "language_info": {
      "name": "python"
    }
  },
  "cells": [
    {
      "cell_type": "code",
      "metadata": {
        "id": "cr_CC5KKjYs-"
      },
      "source": [
        "import pandas as pd\n",
        "import numpy as np\n",
        "\n",
        "from keras.models import Sequential\n",
        "from keras.layers import Dense\n",
        "from sklearn.datasets import load_breast_cancer\n",
        "from sklearn.preprocessing import StandardScaler"
      ],
      "execution_count": null,
      "outputs": []
    },
    {
      "cell_type": "code",
      "metadata": {
        "colab": {
          "base_uri": "https://localhost:8080/"
        },
        "id": "ykoplDXujpes",
        "outputId": "4c2fc86b-dd4c-47ac-a000-8d59409cbfe5"
      },
      "source": [
        "data = load_breast_cancer()\n",
        "data"
      ],
      "execution_count": null,
      "outputs": [
        {
          "output_type": "execute_result",
          "data": {
            "text/plain": [
              "{'DESCR': '.. _breast_cancer_dataset:\\n\\nBreast cancer wisconsin (diagnostic) dataset\\n--------------------------------------------\\n\\n**Data Set Characteristics:**\\n\\n    :Number of Instances: 569\\n\\n    :Number of Attributes: 30 numeric, predictive attributes and the class\\n\\n    :Attribute Information:\\n        - radius (mean of distances from center to points on the perimeter)\\n        - texture (standard deviation of gray-scale values)\\n        - perimeter\\n        - area\\n        - smoothness (local variation in radius lengths)\\n        - compactness (perimeter^2 / area - 1.0)\\n        - concavity (severity of concave portions of the contour)\\n        - concave points (number of concave portions of the contour)\\n        - symmetry \\n        - fractal dimension (\"coastline approximation\" - 1)\\n\\n        The mean, standard error, and \"worst\" or largest (mean of the three\\n        largest values) of these features were computed for each image,\\n        resulting in 30 features.  For instance, field 3 is Mean Radius, field\\n        13 is Radius SE, field 23 is Worst Radius.\\n\\n        - class:\\n                - WDBC-Malignant\\n                - WDBC-Benign\\n\\n    :Summary Statistics:\\n\\n    ===================================== ====== ======\\n                                           Min    Max\\n    ===================================== ====== ======\\n    radius (mean):                        6.981  28.11\\n    texture (mean):                       9.71   39.28\\n    perimeter (mean):                     43.79  188.5\\n    area (mean):                          143.5  2501.0\\n    smoothness (mean):                    0.053  0.163\\n    compactness (mean):                   0.019  0.345\\n    concavity (mean):                     0.0    0.427\\n    concave points (mean):                0.0    0.201\\n    symmetry (mean):                      0.106  0.304\\n    fractal dimension (mean):             0.05   0.097\\n    radius (standard error):              0.112  2.873\\n    texture (standard error):             0.36   4.885\\n    perimeter (standard error):           0.757  21.98\\n    area (standard error):                6.802  542.2\\n    smoothness (standard error):          0.002  0.031\\n    compactness (standard error):         0.002  0.135\\n    concavity (standard error):           0.0    0.396\\n    concave points (standard error):      0.0    0.053\\n    symmetry (standard error):            0.008  0.079\\n    fractal dimension (standard error):   0.001  0.03\\n    radius (worst):                       7.93   36.04\\n    texture (worst):                      12.02  49.54\\n    perimeter (worst):                    50.41  251.2\\n    area (worst):                         185.2  4254.0\\n    smoothness (worst):                   0.071  0.223\\n    compactness (worst):                  0.027  1.058\\n    concavity (worst):                    0.0    1.252\\n    concave points (worst):               0.0    0.291\\n    symmetry (worst):                     0.156  0.664\\n    fractal dimension (worst):            0.055  0.208\\n    ===================================== ====== ======\\n\\n    :Missing Attribute Values: None\\n\\n    :Class Distribution: 212 - Malignant, 357 - Benign\\n\\n    :Creator:  Dr. William H. Wolberg, W. Nick Street, Olvi L. Mangasarian\\n\\n    :Donor: Nick Street\\n\\n    :Date: November, 1995\\n\\nThis is a copy of UCI ML Breast Cancer Wisconsin (Diagnostic) datasets.\\nhttps://goo.gl/U2Uwz2\\n\\nFeatures are computed from a digitized image of a fine needle\\naspirate (FNA) of a breast mass.  They describe\\ncharacteristics of the cell nuclei present in the image.\\n\\nSeparating plane described above was obtained using\\nMultisurface Method-Tree (MSM-T) [K. P. Bennett, \"Decision Tree\\nConstruction Via Linear Programming.\" Proceedings of the 4th\\nMidwest Artificial Intelligence and Cognitive Science Society,\\npp. 97-101, 1992], a classification method which uses linear\\nprogramming to construct a decision tree.  Relevant features\\nwere selected using an exhaustive search in the space of 1-4\\nfeatures and 1-3 separating planes.\\n\\nThe actual linear program used to obtain the separating plane\\nin the 3-dimensional space is that described in:\\n[K. P. Bennett and O. L. Mangasarian: \"Robust Linear\\nProgramming Discrimination of Two Linearly Inseparable Sets\",\\nOptimization Methods and Software 1, 1992, 23-34].\\n\\nThis database is also available through the UW CS ftp server:\\n\\nftp ftp.cs.wisc.edu\\ncd math-prog/cpo-dataset/machine-learn/WDBC/\\n\\n.. topic:: References\\n\\n   - W.N. Street, W.H. Wolberg and O.L. Mangasarian. Nuclear feature extraction \\n     for breast tumor diagnosis. IS&T/SPIE 1993 International Symposium on \\n     Electronic Imaging: Science and Technology, volume 1905, pages 861-870,\\n     San Jose, CA, 1993.\\n   - O.L. Mangasarian, W.N. Street and W.H. Wolberg. Breast cancer diagnosis and \\n     prognosis via linear programming. Operations Research, 43(4), pages 570-577, \\n     July-August 1995.\\n   - W.H. Wolberg, W.N. Street, and O.L. Mangasarian. Machine learning techniques\\n     to diagnose breast cancer from fine-needle aspirates. Cancer Letters 77 (1994) \\n     163-171.',\n",
              " 'data': array([[1.799e+01, 1.038e+01, 1.228e+02, ..., 2.654e-01, 4.601e-01,\n",
              "         1.189e-01],\n",
              "        [2.057e+01, 1.777e+01, 1.329e+02, ..., 1.860e-01, 2.750e-01,\n",
              "         8.902e-02],\n",
              "        [1.969e+01, 2.125e+01, 1.300e+02, ..., 2.430e-01, 3.613e-01,\n",
              "         8.758e-02],\n",
              "        ...,\n",
              "        [1.660e+01, 2.808e+01, 1.083e+02, ..., 1.418e-01, 2.218e-01,\n",
              "         7.820e-02],\n",
              "        [2.060e+01, 2.933e+01, 1.401e+02, ..., 2.650e-01, 4.087e-01,\n",
              "         1.240e-01],\n",
              "        [7.760e+00, 2.454e+01, 4.792e+01, ..., 0.000e+00, 2.871e-01,\n",
              "         7.039e-02]]),\n",
              " 'feature_names': array(['mean radius', 'mean texture', 'mean perimeter', 'mean area',\n",
              "        'mean smoothness', 'mean compactness', 'mean concavity',\n",
              "        'mean concave points', 'mean symmetry', 'mean fractal dimension',\n",
              "        'radius error', 'texture error', 'perimeter error', 'area error',\n",
              "        'smoothness error', 'compactness error', 'concavity error',\n",
              "        'concave points error', 'symmetry error',\n",
              "        'fractal dimension error', 'worst radius', 'worst texture',\n",
              "        'worst perimeter', 'worst area', 'worst smoothness',\n",
              "        'worst compactness', 'worst concavity', 'worst concave points',\n",
              "        'worst symmetry', 'worst fractal dimension'], dtype='<U23'),\n",
              " 'filename': '/usr/local/lib/python3.7/dist-packages/sklearn/datasets/data/breast_cancer.csv',\n",
              " 'target': array([0, 0, 0, 0, 0, 0, 0, 0, 0, 0, 0, 0, 0, 0, 0, 0, 0, 0, 0, 1, 1, 1,\n",
              "        0, 0, 0, 0, 0, 0, 0, 0, 0, 0, 0, 0, 0, 0, 0, 1, 0, 0, 0, 0, 0, 0,\n",
              "        0, 0, 1, 0, 1, 1, 1, 1, 1, 0, 0, 1, 0, 0, 1, 1, 1, 1, 0, 1, 0, 0,\n",
              "        1, 1, 1, 1, 0, 1, 0, 0, 1, 0, 1, 0, 0, 1, 1, 1, 0, 0, 1, 0, 0, 0,\n",
              "        1, 1, 1, 0, 1, 1, 0, 0, 1, 1, 1, 0, 0, 1, 1, 1, 1, 0, 1, 1, 0, 1,\n",
              "        1, 1, 1, 1, 1, 1, 1, 0, 0, 0, 1, 0, 0, 1, 1, 1, 0, 0, 1, 0, 1, 0,\n",
              "        0, 1, 0, 0, 1, 1, 0, 1, 1, 0, 1, 1, 1, 1, 0, 1, 1, 1, 1, 1, 1, 1,\n",
              "        1, 1, 0, 1, 1, 1, 1, 0, 0, 1, 0, 1, 1, 0, 0, 1, 1, 0, 0, 1, 1, 1,\n",
              "        1, 0, 1, 1, 0, 0, 0, 1, 0, 1, 0, 1, 1, 1, 0, 1, 1, 0, 0, 1, 0, 0,\n",
              "        0, 0, 1, 0, 0, 0, 1, 0, 1, 0, 1, 1, 0, 1, 0, 0, 0, 0, 1, 1, 0, 0,\n",
              "        1, 1, 1, 0, 1, 1, 1, 1, 1, 0, 0, 1, 1, 0, 1, 1, 0, 0, 1, 0, 1, 1,\n",
              "        1, 1, 0, 1, 1, 1, 1, 1, 0, 1, 0, 0, 0, 0, 0, 0, 0, 0, 0, 0, 0, 0,\n",
              "        0, 0, 1, 1, 1, 1, 1, 1, 0, 1, 0, 1, 1, 0, 1, 1, 0, 1, 0, 0, 1, 1,\n",
              "        1, 1, 1, 1, 1, 1, 1, 1, 1, 1, 1, 0, 1, 1, 0, 1, 0, 1, 1, 1, 1, 1,\n",
              "        1, 1, 1, 1, 1, 1, 1, 1, 1, 0, 1, 1, 1, 0, 1, 0, 1, 1, 1, 1, 0, 0,\n",
              "        0, 1, 1, 1, 1, 0, 1, 0, 1, 0, 1, 1, 1, 0, 1, 1, 1, 1, 1, 1, 1, 0,\n",
              "        0, 0, 1, 1, 1, 1, 1, 1, 1, 1, 1, 1, 1, 0, 0, 1, 0, 0, 0, 1, 0, 0,\n",
              "        1, 1, 1, 1, 1, 0, 1, 1, 1, 1, 1, 0, 1, 1, 1, 0, 1, 1, 0, 0, 1, 1,\n",
              "        1, 1, 1, 1, 0, 1, 1, 1, 1, 1, 1, 1, 0, 1, 1, 1, 1, 1, 0, 1, 1, 0,\n",
              "        1, 1, 1, 1, 1, 1, 1, 1, 1, 1, 1, 1, 0, 1, 0, 0, 1, 0, 1, 1, 1, 1,\n",
              "        1, 0, 1, 1, 0, 1, 0, 1, 1, 0, 1, 0, 1, 1, 1, 1, 1, 1, 1, 1, 0, 0,\n",
              "        1, 1, 1, 1, 1, 1, 0, 1, 1, 1, 1, 1, 1, 1, 1, 1, 1, 0, 1, 1, 1, 1,\n",
              "        1, 1, 1, 0, 1, 0, 1, 1, 0, 1, 1, 1, 1, 1, 0, 0, 1, 0, 1, 0, 1, 1,\n",
              "        1, 1, 1, 0, 1, 1, 0, 1, 0, 1, 0, 0, 1, 1, 1, 0, 1, 1, 1, 1, 1, 1,\n",
              "        1, 1, 1, 1, 1, 0, 1, 0, 0, 1, 1, 1, 1, 1, 1, 1, 1, 1, 1, 1, 1, 1,\n",
              "        1, 1, 1, 1, 1, 1, 1, 1, 1, 1, 1, 1, 0, 0, 0, 0, 0, 0, 1]),\n",
              " 'target_names': array(['malignant', 'benign'], dtype='<U9')}"
            ]
          },
          "metadata": {},
          "execution_count": 413
        }
      ]
    },
    {
      "cell_type": "code",
      "metadata": {
        "colab": {
          "base_uri": "https://localhost:8080/"
        },
        "id": "MJ-cAY5_jqJj",
        "outputId": "1c473dc0-77a1-4c43-98fe-d1ba05f1a93f"
      },
      "source": [
        "data.keys()"
      ],
      "execution_count": null,
      "outputs": [
        {
          "output_type": "execute_result",
          "data": {
            "text/plain": [
              "dict_keys(['data', 'target', 'target_names', 'DESCR', 'feature_names', 'filename'])"
            ]
          },
          "metadata": {},
          "execution_count": 414
        }
      ]
    },
    {
      "cell_type": "code",
      "metadata": {
        "id": "HAF5tIIVkWKk",
        "colab": {
          "base_uri": "https://localhost:8080/"
        },
        "outputId": "9491895c-a3ca-4653-e3f3-53dd347dac90"
      },
      "source": [
        "print(data['DESCR'])"
      ],
      "execution_count": null,
      "outputs": [
        {
          "output_type": "stream",
          "name": "stdout",
          "text": [
            ".. _breast_cancer_dataset:\n",
            "\n",
            "Breast cancer wisconsin (diagnostic) dataset\n",
            "--------------------------------------------\n",
            "\n",
            "**Data Set Characteristics:**\n",
            "\n",
            "    :Number of Instances: 569\n",
            "\n",
            "    :Number of Attributes: 30 numeric, predictive attributes and the class\n",
            "\n",
            "    :Attribute Information:\n",
            "        - radius (mean of distances from center to points on the perimeter)\n",
            "        - texture (standard deviation of gray-scale values)\n",
            "        - perimeter\n",
            "        - area\n",
            "        - smoothness (local variation in radius lengths)\n",
            "        - compactness (perimeter^2 / area - 1.0)\n",
            "        - concavity (severity of concave portions of the contour)\n",
            "        - concave points (number of concave portions of the contour)\n",
            "        - symmetry \n",
            "        - fractal dimension (\"coastline approximation\" - 1)\n",
            "\n",
            "        The mean, standard error, and \"worst\" or largest (mean of the three\n",
            "        largest values) of these features were computed for each image,\n",
            "        resulting in 30 features.  For instance, field 3 is Mean Radius, field\n",
            "        13 is Radius SE, field 23 is Worst Radius.\n",
            "\n",
            "        - class:\n",
            "                - WDBC-Malignant\n",
            "                - WDBC-Benign\n",
            "\n",
            "    :Summary Statistics:\n",
            "\n",
            "    ===================================== ====== ======\n",
            "                                           Min    Max\n",
            "    ===================================== ====== ======\n",
            "    radius (mean):                        6.981  28.11\n",
            "    texture (mean):                       9.71   39.28\n",
            "    perimeter (mean):                     43.79  188.5\n",
            "    area (mean):                          143.5  2501.0\n",
            "    smoothness (mean):                    0.053  0.163\n",
            "    compactness (mean):                   0.019  0.345\n",
            "    concavity (mean):                     0.0    0.427\n",
            "    concave points (mean):                0.0    0.201\n",
            "    symmetry (mean):                      0.106  0.304\n",
            "    fractal dimension (mean):             0.05   0.097\n",
            "    radius (standard error):              0.112  2.873\n",
            "    texture (standard error):             0.36   4.885\n",
            "    perimeter (standard error):           0.757  21.98\n",
            "    area (standard error):                6.802  542.2\n",
            "    smoothness (standard error):          0.002  0.031\n",
            "    compactness (standard error):         0.002  0.135\n",
            "    concavity (standard error):           0.0    0.396\n",
            "    concave points (standard error):      0.0    0.053\n",
            "    symmetry (standard error):            0.008  0.079\n",
            "    fractal dimension (standard error):   0.001  0.03\n",
            "    radius (worst):                       7.93   36.04\n",
            "    texture (worst):                      12.02  49.54\n",
            "    perimeter (worst):                    50.41  251.2\n",
            "    area (worst):                         185.2  4254.0\n",
            "    smoothness (worst):                   0.071  0.223\n",
            "    compactness (worst):                  0.027  1.058\n",
            "    concavity (worst):                    0.0    1.252\n",
            "    concave points (worst):               0.0    0.291\n",
            "    symmetry (worst):                     0.156  0.664\n",
            "    fractal dimension (worst):            0.055  0.208\n",
            "    ===================================== ====== ======\n",
            "\n",
            "    :Missing Attribute Values: None\n",
            "\n",
            "    :Class Distribution: 212 - Malignant, 357 - Benign\n",
            "\n",
            "    :Creator:  Dr. William H. Wolberg, W. Nick Street, Olvi L. Mangasarian\n",
            "\n",
            "    :Donor: Nick Street\n",
            "\n",
            "    :Date: November, 1995\n",
            "\n",
            "This is a copy of UCI ML Breast Cancer Wisconsin (Diagnostic) datasets.\n",
            "https://goo.gl/U2Uwz2\n",
            "\n",
            "Features are computed from a digitized image of a fine needle\n",
            "aspirate (FNA) of a breast mass.  They describe\n",
            "characteristics of the cell nuclei present in the image.\n",
            "\n",
            "Separating plane described above was obtained using\n",
            "Multisurface Method-Tree (MSM-T) [K. P. Bennett, \"Decision Tree\n",
            "Construction Via Linear Programming.\" Proceedings of the 4th\n",
            "Midwest Artificial Intelligence and Cognitive Science Society,\n",
            "pp. 97-101, 1992], a classification method which uses linear\n",
            "programming to construct a decision tree.  Relevant features\n",
            "were selected using an exhaustive search in the space of 1-4\n",
            "features and 1-3 separating planes.\n",
            "\n",
            "The actual linear program used to obtain the separating plane\n",
            "in the 3-dimensional space is that described in:\n",
            "[K. P. Bennett and O. L. Mangasarian: \"Robust Linear\n",
            "Programming Discrimination of Two Linearly Inseparable Sets\",\n",
            "Optimization Methods and Software 1, 1992, 23-34].\n",
            "\n",
            "This database is also available through the UW CS ftp server:\n",
            "\n",
            "ftp ftp.cs.wisc.edu\n",
            "cd math-prog/cpo-dataset/machine-learn/WDBC/\n",
            "\n",
            ".. topic:: References\n",
            "\n",
            "   - W.N. Street, W.H. Wolberg and O.L. Mangasarian. Nuclear feature extraction \n",
            "     for breast tumor diagnosis. IS&T/SPIE 1993 International Symposium on \n",
            "     Electronic Imaging: Science and Technology, volume 1905, pages 861-870,\n",
            "     San Jose, CA, 1993.\n",
            "   - O.L. Mangasarian, W.N. Street and W.H. Wolberg. Breast cancer diagnosis and \n",
            "     prognosis via linear programming. Operations Research, 43(4), pages 570-577, \n",
            "     July-August 1995.\n",
            "   - W.H. Wolberg, W.N. Street, and O.L. Mangasarian. Machine learning techniques\n",
            "     to diagnose breast cancer from fine-needle aspirates. Cancer Letters 77 (1994) \n",
            "     163-171.\n"
          ]
        }
      ]
    },
    {
      "cell_type": "code",
      "metadata": {
        "colab": {
          "base_uri": "https://localhost:8080/"
        },
        "id": "NYpfTKpPk0-n",
        "outputId": "6d44bf6b-866d-4812-b73d-f75155b79988"
      },
      "source": [
        "print(data['data'])"
      ],
      "execution_count": null,
      "outputs": [
        {
          "output_type": "stream",
          "name": "stdout",
          "text": [
            "[[1.799e+01 1.038e+01 1.228e+02 ... 2.654e-01 4.601e-01 1.189e-01]\n",
            " [2.057e+01 1.777e+01 1.329e+02 ... 1.860e-01 2.750e-01 8.902e-02]\n",
            " [1.969e+01 2.125e+01 1.300e+02 ... 2.430e-01 3.613e-01 8.758e-02]\n",
            " ...\n",
            " [1.660e+01 2.808e+01 1.083e+02 ... 1.418e-01 2.218e-01 7.820e-02]\n",
            " [2.060e+01 2.933e+01 1.401e+02 ... 2.650e-01 4.087e-01 1.240e-01]\n",
            " [7.760e+00 2.454e+01 4.792e+01 ... 0.000e+00 2.871e-01 7.039e-02]]\n"
          ]
        }
      ]
    },
    {
      "cell_type": "code",
      "metadata": {
        "colab": {
          "base_uri": "https://localhost:8080/"
        },
        "id": "WxXmifoOmkgA",
        "outputId": "d68ee149-7184-48f7-b06a-f8a83eac22fd"
      },
      "source": [
        "data['data'].shape"
      ],
      "execution_count": null,
      "outputs": [
        {
          "output_type": "execute_result",
          "data": {
            "text/plain": [
              "(569, 30)"
            ]
          },
          "metadata": {},
          "execution_count": 417
        }
      ]
    },
    {
      "cell_type": "code",
      "metadata": {
        "colab": {
          "base_uri": "https://localhost:8080/"
        },
        "id": "HGE7CQNrm2Qx",
        "outputId": "0649f470-47ed-4974-a6c6-9a52de2d7ecd"
      },
      "source": [
        "data['feature_names']"
      ],
      "execution_count": null,
      "outputs": [
        {
          "output_type": "execute_result",
          "data": {
            "text/plain": [
              "array(['mean radius', 'mean texture', 'mean perimeter', 'mean area',\n",
              "       'mean smoothness', 'mean compactness', 'mean concavity',\n",
              "       'mean concave points', 'mean symmetry', 'mean fractal dimension',\n",
              "       'radius error', 'texture error', 'perimeter error', 'area error',\n",
              "       'smoothness error', 'compactness error', 'concavity error',\n",
              "       'concave points error', 'symmetry error',\n",
              "       'fractal dimension error', 'worst radius', 'worst texture',\n",
              "       'worst perimeter', 'worst area', 'worst smoothness',\n",
              "       'worst compactness', 'worst concavity', 'worst concave points',\n",
              "       'worst symmetry', 'worst fractal dimension'], dtype='<U23')"
            ]
          },
          "metadata": {},
          "execution_count": 418
        }
      ]
    },
    {
      "cell_type": "code",
      "metadata": {
        "colab": {
          "base_uri": "https://localhost:8080/"
        },
        "id": "vpXEzzrJnW9l",
        "outputId": "00ce4c67-c427-4425-d5e3-bcebc1ffa517"
      },
      "source": [
        "j = 0\n",
        "for i in data['feature_names']:\n",
        "  print(f\"{i}, : {data['data'][0][j]}\")\n",
        "  j+=1"
      ],
      "execution_count": null,
      "outputs": [
        {
          "output_type": "stream",
          "name": "stdout",
          "text": [
            "mean radius, : 17.99\n",
            "mean texture, : 10.38\n",
            "mean perimeter, : 122.8\n",
            "mean area, : 1001.0\n",
            "mean smoothness, : 0.1184\n",
            "mean compactness, : 0.2776\n",
            "mean concavity, : 0.3001\n",
            "mean concave points, : 0.1471\n",
            "mean symmetry, : 0.2419\n",
            "mean fractal dimension, : 0.07871\n",
            "radius error, : 1.095\n",
            "texture error, : 0.9053\n",
            "perimeter error, : 8.589\n",
            "area error, : 153.4\n",
            "smoothness error, : 0.006399\n",
            "compactness error, : 0.04904\n",
            "concavity error, : 0.05373\n",
            "concave points error, : 0.01587\n",
            "symmetry error, : 0.03003\n",
            "fractal dimension error, : 0.006193\n",
            "worst radius, : 25.38\n",
            "worst texture, : 17.33\n",
            "worst perimeter, : 184.6\n",
            "worst area, : 2019.0\n",
            "worst smoothness, : 0.1622\n",
            "worst compactness, : 0.6656\n",
            "worst concavity, : 0.7119\n",
            "worst concave points, : 0.2654\n",
            "worst symmetry, : 0.4601\n",
            "worst fractal dimension, : 0.1189\n"
          ]
        }
      ]
    },
    {
      "cell_type": "code",
      "metadata": {
        "colab": {
          "base_uri": "https://localhost:8080/"
        },
        "id": "u5pOkE_RsNiP",
        "outputId": "3ad6c103-1f2e-4983-9966-4f7be36e1027"
      },
      "source": [
        "feature = data['data']\n",
        "feature.shape"
      ],
      "execution_count": null,
      "outputs": [
        {
          "output_type": "execute_result",
          "data": {
            "text/plain": [
              "(569, 30)"
            ]
          },
          "metadata": {},
          "execution_count": 420
        }
      ]
    },
    {
      "cell_type": "code",
      "metadata": {
        "colab": {
          "base_uri": "https://localhost:8080/"
        },
        "id": "UUNxjqLUty2r",
        "outputId": "089c2650-f672-4933-c1f2-7f19473d500c"
      },
      "source": [
        "label = data['target']\n",
        "label.shape"
      ],
      "execution_count": null,
      "outputs": [
        {
          "output_type": "execute_result",
          "data": {
            "text/plain": [
              "(569,)"
            ]
          },
          "metadata": {},
          "execution_count": 421
        }
      ]
    },
    {
      "cell_type": "code",
      "metadata": {
        "id": "ZYF0k8Rnt7wj"
      },
      "source": [
        "scaler = StandardScaler()\n",
        "feature = scaler.fit_transform(feature)"
      ],
      "execution_count": null,
      "outputs": []
    },
    {
      "cell_type": "code",
      "metadata": {
        "colab": {
          "base_uri": "https://localhost:8080/"
        },
        "id": "2eUANMJavf4H",
        "outputId": "2bba1ed5-aca0-495c-b652-27baaa19a99a"
      },
      "source": [
        "j = 0\n",
        "for i in data['feature_names']:\n",
        "  print(f\"{i}, : {feature[0][j]}\")\n",
        "  j+=1"
      ],
      "execution_count": null,
      "outputs": [
        {
          "output_type": "stream",
          "name": "stdout",
          "text": [
            "mean radius, : 1.0970639814699807\n",
            "mean texture, : -2.0733350146975935\n",
            "mean perimeter, : 1.2699336881399383\n",
            "mean area, : 0.9843749048031144\n",
            "mean smoothness, : 1.568466329243428\n",
            "mean compactness, : 3.2835146709868264\n",
            "mean concavity, : 2.652873983743168\n",
            "mean concave points, : 2.532475216403245\n",
            "mean symmetry, : 2.2175150059646405\n",
            "mean fractal dimension, : 2.255746885296269\n",
            "radius error, : 2.4897339267376193\n",
            "texture error, : -0.5652650590684639\n",
            "perimeter error, : 2.833030865855184\n",
            "area error, : 2.4875775569611043\n",
            "smoothness error, : -0.21400164666895383\n",
            "compactness error, : 1.3168615683959484\n",
            "concavity error, : 0.72402615808036\n",
            "concave points error, : 0.6608199414286064\n",
            "symmetry error, : 1.1487566671861758\n",
            "fractal dimension error, : 0.9070830809973359\n",
            "worst radius, : 1.8866896251792757\n",
            "worst texture, : -1.3592934737640827\n",
            "worst perimeter, : 2.3036006236225606\n",
            "worst area, : 2.0012374893299207\n",
            "worst smoothness, : 1.3076862710715387\n",
            "worst compactness, : 2.616665023512603\n",
            "worst concavity, : 2.1095263465722556\n",
            "worst concave points, : 2.296076127561788\n",
            "worst symmetry, : 2.750622244124955\n",
            "worst fractal dimension, : 1.9370146123781782\n"
          ]
        }
      ]
    },
    {
      "cell_type": "code",
      "metadata": {
        "colab": {
          "base_uri": "https://localhost:8080/"
        },
        "id": "W4veMUXowAdm",
        "outputId": "825cc47c-c0ed-4176-9216-2be188be9e6c"
      },
      "source": [
        "print(feature[0])\n",
        "print(data['target_names'][label[20]])"
      ],
      "execution_count": null,
      "outputs": [
        {
          "output_type": "stream",
          "name": "stdout",
          "text": [
            "[ 1.09706398 -2.07333501  1.26993369  0.9843749   1.56846633  3.28351467\n",
            "  2.65287398  2.53247522  2.21751501  2.25574689  2.48973393 -0.56526506\n",
            "  2.83303087  2.48757756 -0.21400165  1.31686157  0.72402616  0.66081994\n",
            "  1.14875667  0.90708308  1.88668963 -1.35929347  2.30360062  2.00123749\n",
            "  1.30768627  2.61666502  2.10952635  2.29607613  2.75062224  1.93701461]\n",
            "benign\n"
          ]
        }
      ]
    },
    {
      "cell_type": "code",
      "metadata": {
        "colab": {
          "base_uri": "https://localhost:8080/",
          "height": 35
        },
        "id": "FBZFTJ4gwTrO",
        "outputId": "9f065cfe-2ec7-4b11-bdda-40b9bf8fe3b7"
      },
      "source": [
        "data['target_names'][0]"
      ],
      "execution_count": null,
      "outputs": [
        {
          "output_type": "execute_result",
          "data": {
            "application/vnd.google.colaboratory.intrinsic+json": {
              "type": "string"
            },
            "text/plain": [
              "'malignant'"
            ]
          },
          "metadata": {},
          "execution_count": 425
        }
      ]
    },
    {
      "cell_type": "code",
      "metadata": {
        "id": "D8vdDphxwpqu"
      },
      "source": [
        "df_ftr = pd.DataFrame(feature,columns=data['feature_names'])\n",
        "df_lbl = pd.DataFrame(label,columns=['label'])\n",
        "df = pd.concat([df_ftr,df_lbl],axis=1)\n",
        "df = df.sample(frac=1)"
      ],
      "execution_count": null,
      "outputs": []
    },
    {
      "cell_type": "code",
      "metadata": {
        "colab": {
          "base_uri": "https://localhost:8080/",
          "height": 473
        },
        "id": "0aKHPqjkQJTX",
        "outputId": "872d831f-c7cf-4715-e77c-adc31e10c65b"
      },
      "source": [
        "df"
      ],
      "execution_count": null,
      "outputs": [
        {
          "output_type": "execute_result",
          "data": {
            "text/html": [
              "<div>\n",
              "<style scoped>\n",
              "    .dataframe tbody tr th:only-of-type {\n",
              "        vertical-align: middle;\n",
              "    }\n",
              "\n",
              "    .dataframe tbody tr th {\n",
              "        vertical-align: top;\n",
              "    }\n",
              "\n",
              "    .dataframe thead th {\n",
              "        text-align: right;\n",
              "    }\n",
              "</style>\n",
              "<table border=\"1\" class=\"dataframe\">\n",
              "  <thead>\n",
              "    <tr style=\"text-align: right;\">\n",
              "      <th></th>\n",
              "      <th>mean radius</th>\n",
              "      <th>mean texture</th>\n",
              "      <th>mean perimeter</th>\n",
              "      <th>mean area</th>\n",
              "      <th>mean smoothness</th>\n",
              "      <th>mean compactness</th>\n",
              "      <th>mean concavity</th>\n",
              "      <th>mean concave points</th>\n",
              "      <th>mean symmetry</th>\n",
              "      <th>mean fractal dimension</th>\n",
              "      <th>radius error</th>\n",
              "      <th>texture error</th>\n",
              "      <th>perimeter error</th>\n",
              "      <th>area error</th>\n",
              "      <th>smoothness error</th>\n",
              "      <th>compactness error</th>\n",
              "      <th>concavity error</th>\n",
              "      <th>concave points error</th>\n",
              "      <th>symmetry error</th>\n",
              "      <th>fractal dimension error</th>\n",
              "      <th>worst radius</th>\n",
              "      <th>worst texture</th>\n",
              "      <th>worst perimeter</th>\n",
              "      <th>worst area</th>\n",
              "      <th>worst smoothness</th>\n",
              "      <th>worst compactness</th>\n",
              "      <th>worst concavity</th>\n",
              "      <th>worst concave points</th>\n",
              "      <th>worst symmetry</th>\n",
              "      <th>worst fractal dimension</th>\n",
              "      <th>label</th>\n",
              "    </tr>\n",
              "  </thead>\n",
              "  <tbody>\n",
              "    <tr>\n",
              "      <th>232</th>\n",
              "      <td>-0.825712</td>\n",
              "      <td>3.378983</td>\n",
              "      <td>-0.872369</td>\n",
              "      <td>-0.762473</td>\n",
              "      <td>-1.320851</td>\n",
              "      <td>-1.300090</td>\n",
              "      <td>-1.052512</td>\n",
              "      <td>-1.095861</td>\n",
              "      <td>0.121873</td>\n",
              "      <td>-0.640418</td>\n",
              "      <td>-0.654249</td>\n",
              "      <td>0.780434</td>\n",
              "      <td>-0.681686</td>\n",
              "      <td>-0.547338</td>\n",
              "      <td>-0.894029</td>\n",
              "      <td>-1.043186</td>\n",
              "      <td>-0.950636</td>\n",
              "      <td>-1.358853</td>\n",
              "      <td>-0.167367</td>\n",
              "      <td>-0.476939</td>\n",
              "      <td>-0.809525</td>\n",
              "      <td>2.622237</td>\n",
              "      <td>-0.858464</td>\n",
              "      <td>-0.720187</td>\n",
              "      <td>-1.421536</td>\n",
              "      <td>-1.179499</td>\n",
              "      <td>-1.194624</td>\n",
              "      <td>-1.287960</td>\n",
              "      <td>0.016573</td>\n",
              "      <td>-0.602692</td>\n",
              "      <td>1</td>\n",
              "    </tr>\n",
              "    <tr>\n",
              "      <th>168</th>\n",
              "      <td>0.949377</td>\n",
              "      <td>1.254371</td>\n",
              "      <td>0.993959</td>\n",
              "      <td>0.937732</td>\n",
              "      <td>0.607733</td>\n",
              "      <td>1.060506</td>\n",
              "      <td>1.595745</td>\n",
              "      <td>1.428493</td>\n",
              "      <td>-0.998966</td>\n",
              "      <td>0.120835</td>\n",
              "      <td>2.464469</td>\n",
              "      <td>0.350434</td>\n",
              "      <td>2.213253</td>\n",
              "      <td>1.803324</td>\n",
              "      <td>-0.289005</td>\n",
              "      <td>0.607064</td>\n",
              "      <td>0.482311</td>\n",
              "      <td>0.631622</td>\n",
              "      <td>-1.100882</td>\n",
              "      <td>0.501219</td>\n",
              "      <td>1.422825</td>\n",
              "      <td>1.083363</td>\n",
              "      <td>1.430876</td>\n",
              "      <td>1.370147</td>\n",
              "      <td>0.229323</td>\n",
              "      <td>0.818934</td>\n",
              "      <td>1.040158</td>\n",
              "      <td>0.875435</td>\n",
              "      <td>-1.198380</td>\n",
              "      <td>0.501745</td>\n",
              "      <td>0</td>\n",
              "    </tr>\n",
              "    <tr>\n",
              "      <th>77</th>\n",
              "      <td>1.114105</td>\n",
              "      <td>-0.730617</td>\n",
              "      <td>1.162839</td>\n",
              "      <td>0.998595</td>\n",
              "      <td>0.721598</td>\n",
              "      <td>2.089571</td>\n",
              "      <td>0.999384</td>\n",
              "      <td>1.523931</td>\n",
              "      <td>1.242713</td>\n",
              "      <td>0.557457</td>\n",
              "      <td>2.076840</td>\n",
              "      <td>-1.208994</td>\n",
              "      <td>1.705351</td>\n",
              "      <td>2.078346</td>\n",
              "      <td>0.299686</td>\n",
              "      <td>1.839429</td>\n",
              "      <td>0.486953</td>\n",
              "      <td>1.444293</td>\n",
              "      <td>0.649913</td>\n",
              "      <td>1.232757</td>\n",
              "      <td>1.267513</td>\n",
              "      <td>-1.102000</td>\n",
              "      <td>1.275989</td>\n",
              "      <td>1.282251</td>\n",
              "      <td>0.676449</td>\n",
              "      <td>1.966530</td>\n",
              "      <td>0.510512</td>\n",
              "      <td>1.455568</td>\n",
              "      <td>1.375509</td>\n",
              "      <td>1.488146</td>\n",
              "      <td>0</td>\n",
              "    </tr>\n",
              "    <tr>\n",
              "      <th>33</th>\n",
              "      <td>1.460602</td>\n",
              "      <td>1.670916</td>\n",
              "      <td>1.480004</td>\n",
              "      <td>1.442275</td>\n",
              "      <td>-0.167259</td>\n",
              "      <td>1.280343</td>\n",
              "      <td>0.965486</td>\n",
              "      <td>0.696717</td>\n",
              "      <td>0.151081</td>\n",
              "      <td>-0.026596</td>\n",
              "      <td>0.543648</td>\n",
              "      <td>-1.107935</td>\n",
              "      <td>0.327681</td>\n",
              "      <td>0.612372</td>\n",
              "      <td>-0.675354</td>\n",
              "      <td>0.430453</td>\n",
              "      <td>0.102000</td>\n",
              "      <td>-0.349260</td>\n",
              "      <td>-0.618989</td>\n",
              "      <td>0.038240</td>\n",
              "      <td>1.631978</td>\n",
              "      <td>0.850497</td>\n",
              "      <td>1.612569</td>\n",
              "      <td>1.639107</td>\n",
              "      <td>0.812341</td>\n",
              "      <td>2.574680</td>\n",
              "      <td>1.616341</td>\n",
              "      <td>0.972885</td>\n",
              "      <td>1.247704</td>\n",
              "      <td>1.571270</td>\n",
              "      <td>0</td>\n",
              "    </tr>\n",
              "    <tr>\n",
              "      <th>146</th>\n",
              "      <td>-0.660984</td>\n",
              "      <td>-0.630553</td>\n",
              "      <td>-0.534609</td>\n",
              "      <td>-0.633919</td>\n",
              "      <td>0.906628</td>\n",
              "      <td>1.244335</td>\n",
              "      <td>0.967997</td>\n",
              "      <td>0.650804</td>\n",
              "      <td>3.163109</td>\n",
              "      <td>1.546945</td>\n",
              "      <td>-0.308487</td>\n",
              "      <td>0.379464</td>\n",
              "      <td>-0.289622</td>\n",
              "      <td>-0.343602</td>\n",
              "      <td>-0.538015</td>\n",
              "      <td>0.606506</td>\n",
              "      <td>0.483969</td>\n",
              "      <td>1.076077</td>\n",
              "      <td>4.327067</td>\n",
              "      <td>0.317767</td>\n",
              "      <td>-0.523751</td>\n",
              "      <td>0.114443</td>\n",
              "      <td>-0.456653</td>\n",
              "      <td>-0.507831</td>\n",
              "      <td>0.268776</td>\n",
              "      <td>0.985603</td>\n",
              "      <td>0.854974</td>\n",
              "      <td>1.094698</td>\n",
              "      <td>4.648279</td>\n",
              "      <td>1.055903</td>\n",
              "      <td>0</td>\n",
              "    </tr>\n",
              "    <tr>\n",
              "      <th>...</th>\n",
              "      <td>...</td>\n",
              "      <td>...</td>\n",
              "      <td>...</td>\n",
              "      <td>...</td>\n",
              "      <td>...</td>\n",
              "      <td>...</td>\n",
              "      <td>...</td>\n",
              "      <td>...</td>\n",
              "      <td>...</td>\n",
              "      <td>...</td>\n",
              "      <td>...</td>\n",
              "      <td>...</td>\n",
              "      <td>...</td>\n",
              "      <td>...</td>\n",
              "      <td>...</td>\n",
              "      <td>...</td>\n",
              "      <td>...</td>\n",
              "      <td>...</td>\n",
              "      <td>...</td>\n",
              "      <td>...</td>\n",
              "      <td>...</td>\n",
              "      <td>...</td>\n",
              "      <td>...</td>\n",
              "      <td>...</td>\n",
              "      <td>...</td>\n",
              "      <td>...</td>\n",
              "      <td>...</td>\n",
              "      <td>...</td>\n",
              "      <td>...</td>\n",
              "      <td>...</td>\n",
              "      <td>...</td>\n",
              "    </tr>\n",
              "    <tr>\n",
              "      <th>324</th>\n",
              "      <td>-0.547378</td>\n",
              "      <td>-0.949362</td>\n",
              "      <td>-0.574975</td>\n",
              "      <td>-0.560257</td>\n",
              "      <td>-0.685343</td>\n",
              "      <td>-0.737042</td>\n",
              "      <td>-0.864527</td>\n",
              "      <td>-0.825385</td>\n",
              "      <td>-0.633872</td>\n",
              "      <td>-0.213719</td>\n",
              "      <td>-0.532979</td>\n",
              "      <td>-0.743071</td>\n",
              "      <td>-0.449022</td>\n",
              "      <td>-0.469232</td>\n",
              "      <td>-0.546015</td>\n",
              "      <td>-0.631448</td>\n",
              "      <td>-0.709020</td>\n",
              "      <td>-1.079365</td>\n",
              "      <td>-0.873254</td>\n",
              "      <td>-0.654338</td>\n",
              "      <td>-0.521680</td>\n",
              "      <td>-0.699776</td>\n",
              "      <td>-0.481077</td>\n",
              "      <td>-0.522949</td>\n",
              "      <td>-0.296707</td>\n",
              "      <td>-0.391004</td>\n",
              "      <td>-0.745960</td>\n",
              "      <td>-0.899073</td>\n",
              "      <td>-0.387872</td>\n",
              "      <td>-0.240273</td>\n",
              "      <td>1</td>\n",
              "    </tr>\n",
              "    <tr>\n",
              "      <th>22</th>\n",
              "      <td>0.344426</td>\n",
              "      <td>-1.170433</td>\n",
              "      <td>0.433773</td>\n",
              "      <td>0.140814</td>\n",
              "      <td>0.778530</td>\n",
              "      <td>2.068725</td>\n",
              "      <td>1.492795</td>\n",
              "      <td>1.254641</td>\n",
              "      <td>2.589911</td>\n",
              "      <td>1.066377</td>\n",
              "      <td>0.121370</td>\n",
              "      <td>-0.920332</td>\n",
              "      <td>0.256397</td>\n",
              "      <td>0.100612</td>\n",
              "      <td>-0.083996</td>\n",
              "      <td>1.553833</td>\n",
              "      <td>1.079801</td>\n",
              "      <td>1.739514</td>\n",
              "      <td>1.958772</td>\n",
              "      <td>0.226609</td>\n",
              "      <td>0.372916</td>\n",
              "      <td>-1.074317</td>\n",
              "      <td>0.531343</td>\n",
              "      <td>0.176348</td>\n",
              "      <td>0.290694</td>\n",
              "      <td>2.170095</td>\n",
              "      <td>1.719008</td>\n",
              "      <td>1.898662</td>\n",
              "      <td>2.857396</td>\n",
              "      <td>0.859731</td>\n",
              "      <td>0</td>\n",
              "    </tr>\n",
              "    <tr>\n",
              "      <th>7</th>\n",
              "      <td>-0.118517</td>\n",
              "      <td>0.358450</td>\n",
              "      <td>-0.072867</td>\n",
              "      <td>-0.218965</td>\n",
              "      <td>1.604049</td>\n",
              "      <td>1.140102</td>\n",
              "      <td>0.061026</td>\n",
              "      <td>0.281950</td>\n",
              "      <td>1.403355</td>\n",
              "      <td>1.660353</td>\n",
              "      <td>0.643623</td>\n",
              "      <td>0.290561</td>\n",
              "      <td>0.490051</td>\n",
              "      <td>0.233722</td>\n",
              "      <td>0.588031</td>\n",
              "      <td>0.268933</td>\n",
              "      <td>-0.232554</td>\n",
              "      <td>0.435349</td>\n",
              "      <td>-0.688004</td>\n",
              "      <td>0.611669</td>\n",
              "      <td>0.163763</td>\n",
              "      <td>0.401048</td>\n",
              "      <td>0.099449</td>\n",
              "      <td>0.028859</td>\n",
              "      <td>1.447961</td>\n",
              "      <td>0.724786</td>\n",
              "      <td>-0.021054</td>\n",
              "      <td>0.624196</td>\n",
              "      <td>0.477640</td>\n",
              "      <td>1.726435</td>\n",
              "      <td>0</td>\n",
              "    </tr>\n",
              "    <tr>\n",
              "      <th>81</th>\n",
              "      <td>-0.223602</td>\n",
              "      <td>-0.798102</td>\n",
              "      <td>-0.225682</td>\n",
              "      <td>-0.383638</td>\n",
              "      <td>0.814113</td>\n",
              "      <td>0.931636</td>\n",
              "      <td>0.352803</td>\n",
              "      <td>0.540406</td>\n",
              "      <td>0.476015</td>\n",
              "      <td>0.882089</td>\n",
              "      <td>-0.430117</td>\n",
              "      <td>-0.364417</td>\n",
              "      <td>-0.658915</td>\n",
              "      <td>-0.602343</td>\n",
              "      <td>-0.082330</td>\n",
              "      <td>0.574090</td>\n",
              "      <td>0.262149</td>\n",
              "      <td>0.329912</td>\n",
              "      <td>0.096584</td>\n",
              "      <td>0.305663</td>\n",
              "      <td>-0.153073</td>\n",
              "      <td>-0.405029</td>\n",
              "      <td>-0.315766</td>\n",
              "      <td>-0.467048</td>\n",
              "      <td>0.930698</td>\n",
              "      <td>1.430264</td>\n",
              "      <td>1.024806</td>\n",
              "      <td>0.855640</td>\n",
              "      <td>1.013126</td>\n",
              "      <td>0.978321</td>\n",
              "      <td>1</td>\n",
              "    </tr>\n",
              "    <tr>\n",
              "      <th>483</th>\n",
              "      <td>-0.121357</td>\n",
              "      <td>-0.383884</td>\n",
              "      <td>-0.173371</td>\n",
              "      <td>-0.238305</td>\n",
              "      <td>0.223439</td>\n",
              "      <td>-0.469447</td>\n",
              "      <td>-0.543873</td>\n",
              "      <td>-0.446730</td>\n",
              "      <td>-0.290683</td>\n",
              "      <td>-0.271841</td>\n",
              "      <td>-0.584952</td>\n",
              "      <td>-0.491058</td>\n",
              "      <td>-0.644559</td>\n",
              "      <td>-0.433369</td>\n",
              "      <td>-1.265378</td>\n",
              "      <td>-0.966450</td>\n",
              "      <td>-0.494494</td>\n",
              "      <td>-0.415766</td>\n",
              "      <td>-0.931372</td>\n",
              "      <td>-0.858972</td>\n",
              "      <td>-0.271110</td>\n",
              "      <td>-0.349662</td>\n",
              "      <td>-0.341978</td>\n",
              "      <td>-0.341181</td>\n",
              "      <td>-0.546572</td>\n",
              "      <td>-0.761237</td>\n",
              "      <td>-0.470102</td>\n",
              "      <td>-0.362945</td>\n",
              "      <td>-0.619215</td>\n",
              "      <td>-0.794985</td>\n",
              "      <td>1</td>\n",
              "    </tr>\n",
              "  </tbody>\n",
              "</table>\n",
              "<p>569 rows × 31 columns</p>\n",
              "</div>"
            ],
            "text/plain": [
              "     mean radius  mean texture  ...  worst fractal dimension  label\n",
              "232    -0.825712      3.378983  ...                -0.602692      1\n",
              "168     0.949377      1.254371  ...                 0.501745      0\n",
              "77      1.114105     -0.730617  ...                 1.488146      0\n",
              "33      1.460602      1.670916  ...                 1.571270      0\n",
              "146    -0.660984     -0.630553  ...                 1.055903      0\n",
              "..           ...           ...  ...                      ...    ...\n",
              "324    -0.547378     -0.949362  ...                -0.240273      1\n",
              "22      0.344426     -1.170433  ...                 0.859731      0\n",
              "7      -0.118517      0.358450  ...                 1.726435      0\n",
              "81     -0.223602     -0.798102  ...                 0.978321      1\n",
              "483    -0.121357     -0.383884  ...                -0.794985      1\n",
              "\n",
              "[569 rows x 31 columns]"
            ]
          },
          "metadata": {},
          "execution_count": 427
        }
      ]
    },
    {
      "cell_type": "code",
      "metadata": {
        "id": "qMziiqbbQavy"
      },
      "source": [
        "feature = df.values[:,:30]\n",
        "label = df.values[:, 30:]"
      ],
      "execution_count": null,
      "outputs": []
    },
    {
      "cell_type": "code",
      "metadata": {
        "id": "W4x0Mogm0cqC"
      },
      "source": [
        "#500 Training\n",
        "X_train = feature[:500]\n",
        "y_train = label[:500]\n",
        "#35 Training\n",
        "X_val = feature[500:535]\n",
        "y_val = label[500:535]\n",
        "#34 Training\n",
        "X_test = feature[535:]\n",
        "y_test = label[535:]"
      ],
      "execution_count": null,
      "outputs": []
    },
    {
      "cell_type": "code",
      "metadata": {
        "id": "bHCDoNOP2lKl"
      },
      "source": [
        "model = Sequential()\n",
        "\n",
        "model.add(Dense(64,activation = 'relu', input_dim = 30)) #add layer\n",
        "model.add(Dense(32,activation = 'relu'))\n",
        "model.add(Dense(8,activation = 'relu'))\n",
        "model.add(Dense(1, activation = 'sigmoid'))\n",
        "\n",
        "model.compile(loss = 'binary_crossentropy', optimizer = 'adam', metrics = ['accuracy'])"
      ],
      "execution_count": null,
      "outputs": []
    },
    {
      "cell_type": "code",
      "metadata": {
        "colab": {
          "base_uri": "https://localhost:8080/"
        },
        "id": "DY2sqqDJ7r_D",
        "outputId": "82efc849-b28d-4266-a4eb-156abb8c6b71"
      },
      "source": [
        "model.fit(X_train, y_train, batch_size=1, epochs=5,validation_data=(X_val,y_val))"
      ],
      "execution_count": null,
      "outputs": [
        {
          "output_type": "stream",
          "name": "stdout",
          "text": [
            "Epoch 1/5\n",
            "500/500 [==============================] - 1s 2ms/step - loss: 0.2055 - accuracy: 0.9380 - val_loss: 0.0715 - val_accuracy: 0.9714\n",
            "Epoch 2/5\n",
            "500/500 [==============================] - 1s 2ms/step - loss: 0.0531 - accuracy: 0.9820 - val_loss: 0.0568 - val_accuracy: 0.9714\n",
            "Epoch 3/5\n",
            "500/500 [==============================] - 1s 2ms/step - loss: 0.0419 - accuracy: 0.9860 - val_loss: 0.1818 - val_accuracy: 0.9429\n",
            "Epoch 4/5\n",
            "500/500 [==============================] - 1s 2ms/step - loss: 0.0328 - accuracy: 0.9860 - val_loss: 0.1670 - val_accuracy: 0.9714\n",
            "Epoch 5/5\n",
            "500/500 [==============================] - 1s 2ms/step - loss: 0.0221 - accuracy: 0.9940 - val_loss: 0.1228 - val_accuracy: 0.9429\n"
          ]
        },
        {
          "output_type": "execute_result",
          "data": {
            "text/plain": [
              "<keras.callbacks.History at 0x7fcd5c51f910>"
            ]
          },
          "metadata": {},
          "execution_count": 408
        }
      ]
    },
    {
      "cell_type": "code",
      "metadata": {
        "colab": {
          "base_uri": "https://localhost:8080/"
        },
        "id": "auhA5TvQ98hj",
        "outputId": "d7fe1f26-a668-406a-e5dd-905f2c1798ba"
      },
      "source": [
        "model.evaluate(X_test,y_test)"
      ],
      "execution_count": null,
      "outputs": [
        {
          "output_type": "stream",
          "name": "stdout",
          "text": [
            "2/2 [==============================] - 0s 7ms/step - loss: 0.4181 - accuracy: 0.9412\n"
          ]
        },
        {
          "output_type": "execute_result",
          "data": {
            "text/plain": [
              "[0.4181191325187683, 0.9411764740943909]"
            ]
          },
          "metadata": {},
          "execution_count": 409
        }
      ]
    },
    {
      "cell_type": "code",
      "metadata": {
        "colab": {
          "base_uri": "https://localhost:8080/"
        },
        "id": "efNRXoYa_e88",
        "outputId": "517ff51c-8ed4-4cb9-ba46-e7a2f0862a52"
      },
      "source": [
        "model.evaluate(X_val,y_val)"
      ],
      "execution_count": null,
      "outputs": [
        {
          "output_type": "stream",
          "name": "stdout",
          "text": [
            "2/2 [==============================] - 0s 5ms/step - loss: 0.1228 - accuracy: 0.9429\n"
          ]
        },
        {
          "output_type": "execute_result",
          "data": {
            "text/plain": [
              "[0.12283676862716675, 0.9428571462631226]"
            ]
          },
          "metadata": {},
          "execution_count": 410
        }
      ]
    },
    {
      "cell_type": "code",
      "metadata": {
        "colab": {
          "base_uri": "https://localhost:8080/"
        },
        "id": "UrTZjJY6Fq9l",
        "outputId": "a167d28e-06b6-4ed2-9d46-963cc7b7ea27"
      },
      "source": [
        "for i in range(10):\n",
        "  sample = X_test[i]\n",
        "  sample = np.reshape(sample,(1,30))\n",
        "\n",
        "  print(\"Predicted\")\n",
        "  if model.predict(sample)[0][0] > 0.5:\n",
        "    print(\"Benign\")\n",
        "  else:\n",
        "    print(\"Malignant\")\n",
        "\n",
        "\n",
        "  print(\"Actual\")\n",
        "\n",
        "  if y_test[i] == 1:\n",
        "    print(\"Benign\\n\")\n",
        "  else:\n",
        "    print(\"Malignant\\n\")"
      ],
      "execution_count": null,
      "outputs": [
        {
          "output_type": "stream",
          "name": "stdout",
          "text": [
            "Predicted\n",
            "Benign\n",
            "Actual\n",
            "Benign\n",
            "\n",
            "Predicted\n",
            "Benign\n",
            "Actual\n",
            "Benign\n",
            "\n",
            "Predicted\n",
            "Benign\n",
            "Actual\n",
            "Benign\n",
            "\n",
            "Predicted\n",
            "Benign\n",
            "Actual\n",
            "Benign\n",
            "\n",
            "Predicted\n",
            "Benign\n",
            "Actual\n",
            "Benign\n",
            "\n",
            "Predicted\n",
            "Malignant\n",
            "Actual\n",
            "Malignant\n",
            "\n",
            "Predicted\n",
            "Benign\n",
            "Actual\n",
            "Benign\n",
            "\n",
            "Predicted\n",
            "Malignant\n",
            "Actual\n",
            "Malignant\n",
            "\n",
            "Predicted\n",
            "Benign\n",
            "Actual\n",
            "Malignant\n",
            "\n",
            "Predicted\n",
            "Benign\n",
            "Actual\n",
            "Benign\n",
            "\n"
          ]
        }
      ]
    },
    {
      "cell_type": "code",
      "metadata": {
        "id": "KbXLzwahGXrF"
      },
      "source": [
        ""
      ],
      "execution_count": null,
      "outputs": []
    },
    {
      "cell_type": "code",
      "metadata": {
        "id": "DL0nb1ufHyue"
      },
      "source": [
        ""
      ],
      "execution_count": null,
      "outputs": []
    }
  ]
}